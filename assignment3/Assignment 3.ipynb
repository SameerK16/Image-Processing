{
 "cells": [
  {
   "cell_type": "markdown",
   "metadata": {},
   "source": [
    "---\n",
    "**Name: Sameer Koleshwar**<br>\n",
    "**Roll no: 202SP010**\n",
    "\n",
    "---"
   ]
  },
  {
   "cell_type": "code",
   "execution_count": 9,
   "metadata": {},
   "outputs": [],
   "source": [
    "#import reuired libraries\n",
    "import numpy as np\n",
    "import time\n",
    "from numpy import fft\n",
    "import cmath\n",
    "import math\n",
    "import copy"
   ]
  },
  {
   "cell_type": "markdown",
   "metadata": {},
   "source": [
    "---\n",
    "**Q2 (a) Write python from scratch for computing 2D DFT{X(k,l)} of the following 2D array**\n",
    "<br>**(i) x(m,n) = np.array([[1, 0],[2, 1]])**\n",
    "<br>**(ii) x(m,n) = np.array([[1,2, 3,4], [5, 6, 7, 8], [9,10,11,12], [13,14,15,16]])**\n",
    "\n",
    "---"
   ]
  },
  {
   "cell_type": "code",
   "execution_count": 2,
   "metadata": {},
   "outputs": [],
   "source": [
    "x1 = np.array([[1, 0],[2, 1]])\n",
    "x2 = np.array([[1,2, 3,4], [5, 6, 7, 8], [9,10,11,12], [13,14,15,16]])"
   ]
  },
  {
   "cell_type": "code",
   "execution_count": 3,
   "metadata": {},
   "outputs": [],
   "source": [
    "def dft_2d(data):\n",
    "    \n",
    "    \"\"\"\n",
    "    DFT of 2d data\n",
    "    Input\n",
    "        data: 2d array \n",
    "    Output\n",
    "        A 2D array respresents the DFT of input data\n",
    "    \"\"\"\n",
    "    \n",
    "    # read no. of rows and cols of input data, and create a empty array with same dimension\n",
    "    # as of input data with complex as a data type\n",
    "    M, N = data.shape \n",
    "    fd = np.empty([M, N], dtype=complex)\n",
    "\n",
    "    # There will 2 for-loops(k, l) to calculate the DFT of each pixel of 2D array,\n",
    "    \n",
    "    for k in range(M):\n",
    "        for l in range(N):\n",
    "            \n",
    "            # To calculate DFT of 1 pixel we have to multiply the exponent terms with every pixel of input data\n",
    "            # Here, we will form a 2D exponents co-efficients matrix named as tf\n",
    "            tf = np.empty([M, N], dtype=complex)\n",
    "            for m in range(0, M):\n",
    "                for n in range(0, N):\n",
    "                    temp = (m*k/M) + (n*l/N)\n",
    "                    tf[m, n] = cmath.exp(complex(0, -2*np.pi*temp))\n",
    "            #print(tf)\n",
    "            \n",
    "            # To do the double summation operation on input data multiplied with exponent co-efficients terms \n",
    "            fd[k, l] = np.sum(np.multiply(tf, data))\n",
    "    return np.around(fd)"
   ]
  },
  {
   "cell_type": "code",
   "execution_count": 4,
   "metadata": {},
   "outputs": [
    {
     "name": "stdout",
     "output_type": "stream",
     "text": [
      "2D DFT from scratch:\n",
      "[[ 4.+0.j  2.-0.j]\n",
      " [-2.-0.j  0.+0.j]]\n",
      "Time required: 0.0 sec\n",
      "\n",
      "\n",
      "DFT using fft package\n",
      "[[ 4.+0.j  2.+0.j]\n",
      " [-2.+0.j  0.+0.j]]\n",
      "Time required: 0.016001224517822266 sec\n"
     ]
    }
   ],
   "source": [
    "print(\"2D DFT from scratch:\")\n",
    "t = time.time()\n",
    "print(dft_2d(x1))\n",
    "print(\"Time required: {} sec\".format(time.time() - t))\n",
    "print(\"\\n\")\n",
    "print(\"DFT using fft package\")\n",
    "t = time.time()\n",
    "print(fft.fft2(x1))\n",
    "print(\"Time required: {} sec\".format(time.time() - t))"
   ]
  },
  {
   "cell_type": "code",
   "execution_count": 5,
   "metadata": {},
   "outputs": [
    {
     "name": "stdout",
     "output_type": "stream",
     "text": [
      "2D DFT from scratch:\n",
      "[[136. +0.j  -8. +8.j  -8. -0.j  -8. -8.j]\n",
      " [-32.+32.j   0. +0.j   0. +0.j  -0. +0.j]\n",
      " [-32. -0.j   0. +0.j   0. +0.j  -0. +0.j]\n",
      " [-32.-32.j  -0. +0.j  -0. +0.j  -0. +0.j]]\n",
      "Time required: 0.0 sec\n",
      "\n",
      "\n",
      "DFT using fft package\n",
      "[[136. +0.j  -8. +8.j  -8. +0.j  -8. -8.j]\n",
      " [-32.+32.j   0. +0.j   0. +0.j   0. +0.j]\n",
      " [-32. +0.j   0. +0.j   0. +0.j   0. +0.j]\n",
      " [-32.-32.j   0. +0.j   0. +0.j   0. +0.j]]\n",
      "Time required: 0.01561427116394043 sec\n"
     ]
    }
   ],
   "source": [
    "print(\"2D DFT from scratch:\")\n",
    "t = time.time()\n",
    "print(dft_2d(x2))\n",
    "print(\"Time required: {} sec\".format(time.time() - t))\n",
    "print(\"\\n\")\n",
    "print(\"DFT using fft package\")\n",
    "t = time.time()\n",
    "print(fft.fft2(x2))\n",
    "print(\"Time required: {} sec\".format(time.time() - t))"
   ]
  },
  {
   "cell_type": "markdown",
   "metadata": {},
   "source": [
    "---\n",
    "**Q.3. (a) Write python from scratch for 2D Circular convolution using  Doubly Block Circulant matrices method between**\n",
    "\n",
    "**input=np.array([[1,2,3],[4,5,6],[7,8,9]])and filter=np.array([[1,2,1],[0,0,0],[-1,-2,-1]])**\n",
    "\n",
    "---"
   ]
  },
  {
   "cell_type": "code",
   "execution_count": 6,
   "metadata": {},
   "outputs": [],
   "source": [
    "def getH1(a, n, m):\n",
    "    \n",
    "    \"\"\"\n",
    "    This function will return a circulant matrix of size (n,m) from the a row-vector input 'a'\n",
    "    Input\n",
    "        a: 1d array\n",
    "        n, m: int\n",
    "    Output:\n",
    "        H1: numpy nd-array(2d), circulant matrix formed from 'a'.\n",
    "    \"\"\"\n",
    "    H1 = np.zeros([n, m])\n",
    "    for i in range(m):\n",
    "        H1[:, i] = a        # In the 1st column copy 'a' vector as it is, in next iteration copy the shifted 'a'\n",
    "        a = np.roll(a, 1)   # used roll funtion for shifting 1 element \n",
    "    return H1\n",
    "\n",
    "def get_circulant(data, kernel):\n",
    "    \n",
    "    \"\"\"\n",
    "    This function will calculate the H matrix for given kernel using dimension of input data\n",
    "    Input:\n",
    "        data, kernel: 2D array\n",
    "    Output:\n",
    "        H matrix \n",
    "    \"\"\"\n",
    "    \n",
    "    # get the shape of data, kernel\n",
    "    m1, n1 = data.shape\n",
    "    m2, n2 = kernel.shape\n",
    "    \n",
    "    # create a 2d array of required size, with zero padding the elements in kernel\n",
    "    h = np.zeros([(m1), (n1)])\n",
    "    m, n = h.shape\n",
    "    h[m-m2:, 0:n2] = kernel\n",
    "    \n",
    "    #print(\"data: \", (m1, n1), \"kernel:\", (m2, n2), \"req: \", (m,n))\n",
    "    #print(\"h\")\n",
    "    #print(h)\n",
    "    \n",
    "    # create a 1st column of circulant matrix, which contains H1, H2, ...., Hm\n",
    "    # using funtion getH1\n",
    "    H_ = np.zeros([n*m, n1])\n",
    "    #print(\"H_ shape \", H_.shape)\n",
    "    #H1[n, 0:m] = H1, H1[n, m:2m] = H2 ........\n",
    "    for k in range(1, m+1):\n",
    "        #print(\"{}:{} \".format((m-k), h[m-k, :]))\n",
    "        H_[(k-1)*n:k*n, :] = getH1((h[m-k, :]).T, n, n1)\n",
    "       \n",
    "    #print(\"H_\\n\")\n",
    "    #print(H_)\n",
    "    #print(H_.shape)\n",
    "    \n",
    "    H = np.zeros([n*m, m1*n1])\n",
    "    H[:, 0:n1] = H_\n",
    "    \n",
    "    mH_, nH_ = H_.shape\n",
    "    #print(\"H\", H.shape)\n",
    "    \n",
    "    # using this loop extend the remaining columns of H matrix\n",
    "    a = copy.copy(H_)\n",
    "    for j in range(1, m1):\n",
    "        a = np.roll(a, m1*n1)\n",
    "        H[:, (j*n1):(j+1)*n1] = a\n",
    "        \n",
    "    #print(\"H\\n\")\n",
    "    #print(H)\n",
    "    return H\n",
    "\n",
    "    \n",
    "def conv2D_circulant(data, kernel):\n",
    "    \n",
    "    \"\"\"\n",
    "    This function will do the multiplication of H and f, i.e. g = H.f\n",
    "    Input\n",
    "        data, kernel\n",
    "    Output:\n",
    "        g: 2d array, circular convolution of input data and kernel using doubly circulant matrix\n",
    "    \"\"\"\n",
    "    \n",
    "    # get the shape of data, kernel\n",
    "    m1, n1 = data.shape\n",
    "    m2, n2 = kernel.shape\n",
    "    #m, n = (m1+m2-1), (n1+n2-1)\n",
    "    \n",
    "    # prepre the f vector \n",
    "    f = np.reshape(np.flipud(data), -1)\n",
    "    #print(\"\\n\")\n",
    "    #print(f)\n",
    "    \n",
    "    # get doubly circulant matrix for given kernel\n",
    "    H = get_circulant(data, kernel)\n",
    "    \n",
    "    # convolution\n",
    "    g = np.dot(H, f)\n",
    "    g = np.flipud(np.reshape(g, [m1, n1]))\n",
    "    #print(\"g\\n\")\n",
    "    #print(g)\n",
    "    \n",
    "\n",
    "    return g\n"
   ]
  },
  {
   "cell_type": "code",
   "execution_count": 7,
   "metadata": {},
   "outputs": [
    {
     "name": "stdout",
     "output_type": "stream",
     "text": [
      "Cicular convolution using doubly circulant matrix from scratch: \n",
      "[[ 24.  24.  24.]\n",
      " [-12. -12. -12.]\n",
      " [-12. -12. -12.]]\n",
      "time required:  0.015480518341064453\n"
     ]
    }
   ],
   "source": [
    "data = np.array([[1,2,3],[4,5,6],[7,8,9]])\n",
    "kernel = np.array([[1,2,1],[0,0,0],[-1,-2,-1]])\n",
    "\n",
    "print(\"Cicular convolution using doubly circulant matrix from scratch: \")\n",
    "t = time.time()\n",
    "print(conv2D_circulant(data, kernel ))\n",
    "print(\"time required: \", time.time()-t)"
   ]
  },
  {
   "cell_type": "code",
   "execution_count": 8,
   "metadata": {},
   "outputs": [
    {
     "name": "stdout",
     "output_type": "stream",
     "text": [
      "Cicular convolution using doubly circulant matrix from scratch: \n",
      "[[ 1.  4. -2.]\n",
      " [ 3.  4. -3.]\n",
      " [ 0.  2. -1.]]\n",
      "time required:  0.0\n"
     ]
    }
   ],
   "source": [
    "# Testing the circular convolution function on problem discussed in the class\n",
    "data = np.array([[0, 1, 0],[1, 3, -1],[1, 2, 1]])\n",
    "kernel = np.array([[1, 0], [1, -1]])\n",
    "\n",
    "print(\"Cicular convolution using doubly circulant matrix from scratch: \")\n",
    "t = time.time()\n",
    "print(conv2D_circulant(data, kernel ))\n",
    "print(\"time required: \", time.time()-t)"
   ]
  }
 ],
 "metadata": {
  "kernelspec": {
   "display_name": "Python 3",
   "language": "python",
   "name": "python3"
  },
  "language_info": {
   "codemirror_mode": {
    "name": "ipython",
    "version": 3
   },
   "file_extension": ".py",
   "mimetype": "text/x-python",
   "name": "python",
   "nbconvert_exporter": "python",
   "pygments_lexer": "ipython3",
   "version": "3.7.0"
  }
 },
 "nbformat": 4,
 "nbformat_minor": 2
}
